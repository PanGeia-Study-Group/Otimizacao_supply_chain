{
 "cells": [
  {
   "cell_type": "markdown",
   "id": "b513fd88-c370-4ed1-8dc3-356d06f1bf35",
   "metadata": {},
   "source": [
    "## EDA tabela_tratada_real"
   ]
  },
  {
   "cell_type": "code",
   "execution_count": 17,
   "id": "68e31285-d7f4-4d45-8202-5c75f0bf411d",
   "metadata": {},
   "outputs": [],
   "source": [
    "import pandas as pd \n",
    "import numpy as np\n",
    "import os\n",
    "import matplotlib.pyplot as plt"
   ]
  },
  {
   "cell_type": "code",
   "execution_count": 4,
   "id": "7704cd55-995b-481a-92ab-19cd0a82feb8",
   "metadata": {},
   "outputs": [],
   "source": [
    "try:\n",
    "    import google.colab\n",
    "    IN_COLAB = True      \n",
    "except:\n",
    "    IN_COLAB = False\n",
    "\n",
    "if IN_COLAB:\n",
    "    from google.colab import drive\n",
    "    drive.mount('/content/drive')\n",
    "    endereco_drive = '/content/drive/MyDrive/'\n",
    "    arquivo = endereco_drive + 'dados/1_dados_entrada/tabela_tratada_real.xlsx'\n",
    "else:\n",
    "    arquivo = os.path.join('../dados/1_dados_entrada/tabela_tratada_real.xlsx')\n",
    "\n",
    "df = pd.ExcelFile(arquivo)\n",
    "itens_df = pd.read_excel(df,sheet_name='Itens') #Dataset de itens\n",
    "cons_df = pd.read_excel(df,sheet_name='Consumos') #Dataset de consumos\n",
    "ords_df = pd.read_excel(df,sheet_name='Pedidos') #Dataset de pedidos\n",
    "movs_df = pd.read_excel(df,sheet_name='Movimentações') #Dataset de movimentações"
   ]
  },
  {
   "cell_type": "markdown",
   "id": "0eda1fcc",
   "metadata": {},
   "source": [
    "# 1. Itens"
   ]
  },
  {
   "cell_type": "code",
   "execution_count": 8,
   "id": "831c9f40-ce32-45c8-a107-38547ecaa209",
   "metadata": {},
   "outputs": [
    {
     "data": {
      "text/html": [
       "<div>\n",
       "<style scoped>\n",
       "    .dataframe tbody tr th:only-of-type {\n",
       "        vertical-align: middle;\n",
       "    }\n",
       "\n",
       "    .dataframe tbody tr th {\n",
       "        vertical-align: top;\n",
       "    }\n",
       "\n",
       "    .dataframe thead th {\n",
       "        text-align: right;\n",
       "    }\n",
       "</style>\n",
       "<table border=\"1\" class=\"dataframe\">\n",
       "  <thead>\n",
       "    <tr style=\"text-align: right;\">\n",
       "      <th></th>\n",
       "      <th>material</th>\n",
       "      <th>reorder_point</th>\n",
       "      <th>max_inventory</th>\n",
       "      <th>unit_price</th>\n",
       "      <th>inventory</th>\n",
       "      <th>lead_time</th>\n",
       "      <th>item_id</th>\n",
       "      <th>min_service_level</th>\n",
       "    </tr>\n",
       "  </thead>\n",
       "  <tbody>\n",
       "    <tr>\n",
       "      <th>0</th>\n",
       "      <td>322</td>\n",
       "      <td>19.0</td>\n",
       "      <td>19.00</td>\n",
       "      <td>31.13</td>\n",
       "      <td>19.5</td>\n",
       "      <td>58.909091</td>\n",
       "      <td>2100322</td>\n",
       "      <td>0.85</td>\n",
       "    </tr>\n",
       "    <tr>\n",
       "      <th>1</th>\n",
       "      <td>395</td>\n",
       "      <td>237.0</td>\n",
       "      <td>332.36</td>\n",
       "      <td>11.63</td>\n",
       "      <td>196.0</td>\n",
       "      <td>36.818182</td>\n",
       "      <td>2100395</td>\n",
       "      <td>0.85</td>\n",
       "    </tr>\n",
       "    <tr>\n",
       "      <th>2</th>\n",
       "      <td>2598</td>\n",
       "      <td>1.0</td>\n",
       "      <td>25.00</td>\n",
       "      <td>2.21</td>\n",
       "      <td>30.0</td>\n",
       "      <td>14.000000</td>\n",
       "      <td>21002598</td>\n",
       "      <td>0.85</td>\n",
       "    </tr>\n",
       "    <tr>\n",
       "      <th>3</th>\n",
       "      <td>2865</td>\n",
       "      <td>1.0</td>\n",
       "      <td>20.00</td>\n",
       "      <td>3.80</td>\n",
       "      <td>21.0</td>\n",
       "      <td>34.000000</td>\n",
       "      <td>21002865</td>\n",
       "      <td>0.85</td>\n",
       "    </tr>\n",
       "    <tr>\n",
       "      <th>4</th>\n",
       "      <td>2883</td>\n",
       "      <td>1.0</td>\n",
       "      <td>2.00</td>\n",
       "      <td>11.44</td>\n",
       "      <td>21.0</td>\n",
       "      <td>76.000000</td>\n",
       "      <td>21002883</td>\n",
       "      <td>0.85</td>\n",
       "    </tr>\n",
       "    <tr>\n",
       "      <th>...</th>\n",
       "      <td>...</td>\n",
       "      <td>...</td>\n",
       "      <td>...</td>\n",
       "      <td>...</td>\n",
       "      <td>...</td>\n",
       "      <td>...</td>\n",
       "      <td>...</td>\n",
       "      <td>...</td>\n",
       "    </tr>\n",
       "    <tr>\n",
       "      <th>248</th>\n",
       "      <td>25378116</td>\n",
       "      <td>40.0</td>\n",
       "      <td>51.00</td>\n",
       "      <td>32.47</td>\n",
       "      <td>57.0</td>\n",
       "      <td>108.000000</td>\n",
       "      <td>210025378116</td>\n",
       "      <td>0.85</td>\n",
       "    </tr>\n",
       "    <tr>\n",
       "      <th>249</th>\n",
       "      <td>27086253</td>\n",
       "      <td>6.0</td>\n",
       "      <td>12.00</td>\n",
       "      <td>231.60</td>\n",
       "      <td>15.0</td>\n",
       "      <td>42.250000</td>\n",
       "      <td>210027086253</td>\n",
       "      <td>0.85</td>\n",
       "    </tr>\n",
       "    <tr>\n",
       "      <th>250</th>\n",
       "      <td>27094520</td>\n",
       "      <td>40.0</td>\n",
       "      <td>40.00</td>\n",
       "      <td>443.01</td>\n",
       "      <td>27.0</td>\n",
       "      <td>31.705882</td>\n",
       "      <td>210027094520</td>\n",
       "      <td>0.85</td>\n",
       "    </tr>\n",
       "    <tr>\n",
       "      <th>251</th>\n",
       "      <td>27106393</td>\n",
       "      <td>9000.0</td>\n",
       "      <td>9000.00</td>\n",
       "      <td>0.73</td>\n",
       "      <td>12000.0</td>\n",
       "      <td>36.000000</td>\n",
       "      <td>210027106393</td>\n",
       "      <td>0.85</td>\n",
       "    </tr>\n",
       "    <tr>\n",
       "      <th>252</th>\n",
       "      <td>27116747</td>\n",
       "      <td>300.0</td>\n",
       "      <td>500.00</td>\n",
       "      <td>41.79</td>\n",
       "      <td>775.0</td>\n",
       "      <td>36.300000</td>\n",
       "      <td>210027116747</td>\n",
       "      <td>0.85</td>\n",
       "    </tr>\n",
       "  </tbody>\n",
       "</table>\n",
       "<p>253 rows × 8 columns</p>\n",
       "</div>"
      ],
      "text/plain": [
       "     material  reorder_point  max_inventory  unit_price  inventory  \\\n",
       "0         322           19.0          19.00       31.13       19.5   \n",
       "1         395          237.0         332.36       11.63      196.0   \n",
       "2        2598            1.0          25.00        2.21       30.0   \n",
       "3        2865            1.0          20.00        3.80       21.0   \n",
       "4        2883            1.0           2.00       11.44       21.0   \n",
       "..        ...            ...            ...         ...        ...   \n",
       "248  25378116           40.0          51.00       32.47       57.0   \n",
       "249  27086253            6.0          12.00      231.60       15.0   \n",
       "250  27094520           40.0          40.00      443.01       27.0   \n",
       "251  27106393         9000.0        9000.00        0.73    12000.0   \n",
       "252  27116747          300.0         500.00       41.79      775.0   \n",
       "\n",
       "      lead_time       item_id  min_service_level  \n",
       "0     58.909091       2100322               0.85  \n",
       "1     36.818182       2100395               0.85  \n",
       "2     14.000000      21002598               0.85  \n",
       "3     34.000000      21002865               0.85  \n",
       "4     76.000000      21002883               0.85  \n",
       "..          ...           ...                ...  \n",
       "248  108.000000  210025378116               0.85  \n",
       "249   42.250000  210027086253               0.85  \n",
       "250   31.705882  210027094520               0.85  \n",
       "251   36.000000  210027106393               0.85  \n",
       "252   36.300000  210027116747               0.85  \n",
       "\n",
       "[253 rows x 8 columns]"
      ]
     },
     "execution_count": 8,
     "metadata": {},
     "output_type": "execute_result"
    }
   ],
   "source": [
    "itens_df"
   ]
  },
  {
   "cell_type": "code",
   "execution_count": 9,
   "id": "3cd64c51-4da2-46cf-ae44-647484304328",
   "metadata": {},
   "outputs": [
    {
     "name": "stdout",
     "output_type": "stream",
     "text": [
      "<class 'pandas.core.frame.DataFrame'>\n",
      "RangeIndex: 253 entries, 0 to 252\n",
      "Data columns (total 8 columns):\n",
      " #   Column             Non-Null Count  Dtype  \n",
      "---  ------             --------------  -----  \n",
      " 0   material           253 non-null    int64  \n",
      " 1   reorder_point      253 non-null    float64\n",
      " 2   max_inventory      253 non-null    float64\n",
      " 3   unit_price         253 non-null    float64\n",
      " 4   inventory          253 non-null    float64\n",
      " 5   lead_time          253 non-null    float64\n",
      " 6   item_id            253 non-null    int64  \n",
      " 7   min_service_level  253 non-null    float64\n",
      "dtypes: float64(6), int64(2)\n",
      "memory usage: 15.9 KB\n"
     ]
    }
   ],
   "source": [
    "itens_df.info()"
   ]
  },
  {
   "cell_type": "markdown",
   "id": "c9d0dab4",
   "metadata": {},
   "source": [
    "Principais variáveis de interesse para o problema: **lead_time, reorder_point e max_inventory**"
   ]
  },
  {
   "cell_type": "markdown",
   "id": "cee6d322",
   "metadata": {},
   "source": [
    "## 1.1 Lead Time"
   ]
  },
  {
   "cell_type": "code",
   "execution_count": 21,
   "id": "eb9ea550-9b95-4f21-b7f9-8d5fb570e090",
   "metadata": {},
   "outputs": [
    {
     "data": {
      "text/plain": [
       "Text(0.5, 0, 'lead_time')"
      ]
     },
     "execution_count": 21,
     "metadata": {},
     "output_type": "execute_result"
    },
    {
     "data": {
      "image/png": "[encoded data removed]",
      "text/plain": [
       "<Figure size 864x432 with 1 Axes>"
      ]
     },
     "metadata": {
      "needs_background": "light"
     },
     "output_type": "display_data"
    }
   ],
   "source": [
    "#Distribuição do lead time\n",
    "plt.figure(figsize=(12,6))\n",
    "itens_df.lead_time.hist(bins=100)\n",
    "plt.title('Distribuição do lead time')\n",
    "plt.ylabel('Frequência')\n",
    "plt.xlabel('lead_time')"
   ]
  },
  {
   "cell_type": "markdown",
   "id": "e1bc3938",
   "metadata": {},
   "source": [
    "## 1.2 Diferença entre ponto de pedido e estoque máximo"
   ]
  },
  {
   "cell_type": "code",
   "execution_count": 27,
   "id": "fe3e5b02",
   "metadata": {},
   "outputs": [
    {
     "data": {
      "text/plain": [
       "Text(0.5, 0, 'Diferença entre ponto de pedido e estoque máximo')"
      ]
     },
     "execution_count": 27,
     "metadata": {},
     "output_type": "execute_result"
    },
    {
     "data": {
      "image/png": "[encoded data removed]",
      "text/plain": [
       "<Figure size 864x432 with 1 Axes>"
      ]
     },
     "metadata": {
      "needs_background": "light"
     },
     "output_type": "display_data"
    }
   ],
   "source": [
    "#Distribuição da diferença entre ponto de pedido e estoque máximo\n",
    "plt.figure(figsize=(12,6))\n",
    "(itens_df.max_inventory - itens_df.reorder_point).hist(bins=100)\n",
    "plt.title('Distribuição da diferença entre ponto de pedido e estoque máximo')\n",
    "plt.ylabel('Frequência')\n",
    "plt.xlabel('Diferença entre ponto de pedido e estoque máximo')"
   ]
  },
  {
   "cell_type": "code",
   "execution_count": 30,
   "id": "e2352658",
   "metadata": {},
   "outputs": [
    {
     "data": {
      "text/plain": [
       "Text(0.5, 0, '% do estoque máximo que é o ponto de pedido')"
      ]
     },
     "execution_count": 30,
     "metadata": {},
     "output_type": "execute_result"
    },
    {
     "data": {
      "image/png": "[encoded data removed]",
      "text/plain": [
       "<Figure size 864x432 with 1 Axes>"
      ]
     },
     "metadata": {
      "needs_background": "light"
     },
     "output_type": "display_data"
    }
   ],
   "source": [
    "#Relação entre ponto de pedido e estoque máximo\n",
    "plt.figure(figsize=(12,6))\n",
    "(100*itens_df.reorder_point/itens_df.max_inventory).hist(bins=100)\n",
    "plt.title('Distribuição da % do estoque máximo que é o ponto de pedido')\n",
    "plt.ylabel('Frequência')\n",
    "plt.xlabel('% do estoque máximo que é o ponto de pedido')"
   ]
  },
  {
   "cell_type": "markdown",
   "id": "abbffaae",
   "metadata": {},
   "source": [
    "**Percepção:** tratar o problema definindo ponto de pedido e de estoque máximo com essa base deve ser pouco efetivo, já que a maioria dos itens possui ambos os valores iguais."
   ]
  },
  {
   "cell_type": "markdown",
   "id": "6bd99a68",
   "metadata": {},
   "source": [
    "# 2. Consumos"
   ]
  },
  {
   "cell_type": "code",
   "execution_count": 31,
   "id": "2284e2c5",
   "metadata": {},
   "outputs": [
    {
     "data": {
      "text/html": [
       "<div>\n",
       "<style scoped>\n",
       "    .dataframe tbody tr th:only-of-type {\n",
       "        vertical-align: middle;\n",
       "    }\n",
       "\n",
       "    .dataframe tbody tr th {\n",
       "        vertical-align: top;\n",
       "    }\n",
       "\n",
       "    .dataframe thead th {\n",
       "        text-align: right;\n",
       "    }\n",
       "</style>\n",
       "<table border=\"1\" class=\"dataframe\">\n",
       "  <thead>\n",
       "    <tr style=\"text-align: right;\">\n",
       "      <th></th>\n",
       "      <th>date</th>\n",
       "      <th>item_id</th>\n",
       "      <th>quantity</th>\n",
       "    </tr>\n",
       "  </thead>\n",
       "  <tbody>\n",
       "    <tr>\n",
       "      <th>0</th>\n",
       "      <td>2017-06-01</td>\n",
       "      <td>2100101972</td>\n",
       "      <td>1.0</td>\n",
       "    </tr>\n",
       "    <tr>\n",
       "      <th>1</th>\n",
       "      <td>2017-06-01</td>\n",
       "      <td>2100102819</td>\n",
       "      <td>1.0</td>\n",
       "    </tr>\n",
       "    <tr>\n",
       "      <th>2</th>\n",
       "      <td>2017-06-01</td>\n",
       "      <td>210025163330</td>\n",
       "      <td>6.0</td>\n",
       "    </tr>\n",
       "    <tr>\n",
       "      <th>3</th>\n",
       "      <td>2017-06-01</td>\n",
       "      <td>2100390473</td>\n",
       "      <td>3.0</td>\n",
       "    </tr>\n",
       "    <tr>\n",
       "      <th>4</th>\n",
       "      <td>2017-06-01</td>\n",
       "      <td>21009007913</td>\n",
       "      <td>1.0</td>\n",
       "    </tr>\n",
       "    <tr>\n",
       "      <th>...</th>\n",
       "      <td>...</td>\n",
       "      <td>...</td>\n",
       "      <td>...</td>\n",
       "    </tr>\n",
       "    <tr>\n",
       "      <th>5531</th>\n",
       "      <td>2021-06-18</td>\n",
       "      <td>2100451852</td>\n",
       "      <td>1.0</td>\n",
       "    </tr>\n",
       "    <tr>\n",
       "      <th>5532</th>\n",
       "      <td>2021-06-18</td>\n",
       "      <td>2100458631</td>\n",
       "      <td>30.0</td>\n",
       "    </tr>\n",
       "    <tr>\n",
       "      <th>5533</th>\n",
       "      <td>2021-06-19</td>\n",
       "      <td>210025378098</td>\n",
       "      <td>1.0</td>\n",
       "    </tr>\n",
       "    <tr>\n",
       "      <th>5534</th>\n",
       "      <td>2021-06-19</td>\n",
       "      <td>210027094520</td>\n",
       "      <td>6.0</td>\n",
       "    </tr>\n",
       "    <tr>\n",
       "      <th>5535</th>\n",
       "      <td>2021-06-19</td>\n",
       "      <td>2100768422</td>\n",
       "      <td>23.0</td>\n",
       "    </tr>\n",
       "  </tbody>\n",
       "</table>\n",
       "<p>5536 rows × 3 columns</p>\n",
       "</div>"
      ],
      "text/plain": [
       "           date       item_id  quantity\n",
       "0    2017-06-01    2100101972       1.0\n",
       "1    2017-06-01    2100102819       1.0\n",
       "2    2017-06-01  210025163330       6.0\n",
       "3    2017-06-01    2100390473       3.0\n",
       "4    2017-06-01   21009007913       1.0\n",
       "...         ...           ...       ...\n",
       "5531 2021-06-18    2100451852       1.0\n",
       "5532 2021-06-18    2100458631      30.0\n",
       "5533 2021-06-19  210025378098       1.0\n",
       "5534 2021-06-19  210027094520       6.0\n",
       "5535 2021-06-19    2100768422      23.0\n",
       "\n",
       "[5536 rows x 3 columns]"
      ]
     },
     "execution_count": 31,
     "metadata": {},
     "output_type": "execute_result"
    }
   ],
   "source": [
    "cons_df"
   ]
  },
  {
   "cell_type": "code",
   "execution_count": 32,
   "id": "b7829d0c",
   "metadata": {},
   "outputs": [
    {
     "name": "stdout",
     "output_type": "stream",
     "text": [
      "<class 'pandas.core.frame.DataFrame'>\n",
      "RangeIndex: 5536 entries, 0 to 5535\n",
      "Data columns (total 3 columns):\n",
      " #   Column    Non-Null Count  Dtype         \n",
      "---  ------    --------------  -----         \n",
      " 0   date      5536 non-null   datetime64[ns]\n",
      " 1   item_id   5536 non-null   int64         \n",
      " 2   quantity  5536 non-null   float64       \n",
      "dtypes: datetime64[ns](1), float64(1), int64(1)\n",
      "memory usage: 129.9 KB\n"
     ]
    }
   ],
   "source": [
    "cons_df.info()"
   ]
  },
  {
   "cell_type": "markdown",
   "id": "0bcd0ce9",
   "metadata": {},
   "source": [
    "## 2.1 Intervalo de datas"
   ]
  },
  {
   "cell_type": "code",
   "execution_count": 34,
   "id": "07ca065f",
   "metadata": {},
   "outputs": [
    {
     "data": {
      "text/plain": [
       "(Timestamp('2017-06-01 00:00:00'), Timestamp('2021-06-19 00:00:00'))"
      ]
     },
     "execution_count": 34,
     "metadata": {},
     "output_type": "execute_result"
    }
   ],
   "source": [
    "#Data mínima e máxima do dataset\n",
    "cons_df.date.min(), cons_df.date.max()"
   ]
  },
  {
   "cell_type": "code",
   "execution_count": 35,
   "id": "bd1fe469",
   "metadata": {},
   "outputs": [
    {
     "data": {
      "text/plain": [
       "Text(0.5, 0, 'Data')"
      ]
     },
     "execution_count": 35,
     "metadata": {},
     "output_type": "execute_result"
    },
    {
     "data": {
      "image/png": "[encoded data removed]",
      "text/plain": [
       "<Figure size 864x432 with 1 Axes>"
      ]
     },
     "metadata": {
      "needs_background": "light"
     },
     "output_type": "display_data"
    }
   ],
   "source": [
    "#Distribuição dos consumos ao longo das datas\n",
    "plt.figure(figsize=(12,6))\n",
    "cons_df.date.hist(bins=100)\n",
    "plt.title('Distribuição do consumo em função das datas')\n",
    "plt.ylabel('Consumos')\n",
    "plt.xlabel('Data')"
   ]
  },
  {
   "cell_type": "code",
   "execution_count": 37,
   "id": "010022ab",
   "metadata": {},
   "outputs": [
    {
     "data": {
      "text/plain": [
       "Text(0.5, 0, 'Quantidade consumida')"
      ]
     },
     "execution_count": 37,
     "metadata": {},
     "output_type": "execute_result"
    },
    {
     "data": {
      "image/png": "[encoded data removed]",
      "text/plain": [
       "<Figure size 864x432 with 1 Axes>"
      ]
     },
     "metadata": {
      "needs_background": "light"
     },
     "output_type": "display_data"
    }
   ],
   "source": [
    "#Distribuição da quantidade consumida\n",
    "plt.figure(figsize=(12,6))\n",
    "cons_df.quantity.hist(bins=100)\n",
    "plt.title('Distribuição da quantidade consumida')\n",
    "plt.ylabel('Frequência')\n",
    "plt.xlabel('Quantidade consumida')"
   ]
  }
 ],
 "metadata": {
  "kernelspec": {
   "display_name": "Python 3 (ipykernel)",
   "language": "python",
   "name": "python3"
  },
  "language_info": {
   "codemirror_mode": {
    "name": "ipython",
    "version": 3
   },
   "file_extension": ".py",
   "mimetype": "text/x-python",
   "name": "python",
   "nbconvert_exporter": "python",
   "pygments_lexer": "ipython3",
   "version": "3.8.5"
  }
 },
 "nbformat": 4,
 "nbformat_minor": 5
}
